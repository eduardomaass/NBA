{
 "cells": [
  {
   "cell_type": "markdown",
   "id": "17397a0b",
   "metadata": {},
   "source": [
    "# Importar as bibliotecas"
   ]
  },
  {
   "cell_type": "code",
   "execution_count": 1,
   "id": "c81430a6",
   "metadata": {},
   "outputs": [],
   "source": [
    "from nba_api.stats.endpoints import shotchartdetail\n",
    "from nba_api.stats.endpoints import shotchartleaguewide\n",
    "import pandas as pd\n",
    "import json\n",
    "import requests"
   ]
  },
  {
   "cell_type": "markdown",
   "id": "247daec8",
   "metadata": {},
   "source": [
    "# Exportar os arremesos de quadra da temporada 2020-2021"
   ]
  },
  {
   "cell_type": "code",
   "execution_count": 2,
   "id": "9358dc91",
   "metadata": {},
   "outputs": [],
   "source": [
    "season = ('2020-21')"
   ]
  },
  {
   "cell_type": "code",
   "execution_count": 3,
   "id": "065fe3bc",
   "metadata": {},
   "outputs": [],
   "source": [
    "response = shotchartdetail.ShotChartDetail(\n",
    "    team_id=0,\n",
    "    player_id=0,\n",
    "    season_nullable=season,\n",
    "    context_measure_simple = 'FGA',\n",
    "    season_type_all_star='Regular Season'\n",
    ")\n",
    "\n",
    "content = json.loads(response.get_json())\n",
    "\n",
    "results = content['resultSets'][0]\n",
    "headers = results['headers']\n",
    "rows = results['rowSet']\n",
    "df = pd.DataFrame(rows, columns=headers)\n",
    "df.columns = headers\n",
    "    \n",
    "df.to_csv('C:\\\\Users\\\\user\\\\\\Documents\\\\GitHub\\\\NBA Shots\\\\nba_'+season+'.csv', index=False)"
   ]
  },
  {
   "cell_type": "markdown",
   "id": "6827c1be",
   "metadata": {},
   "source": [
    "# Exportar as fotos dos jogadores"
   ]
  },
  {
   "cell_type": "code",
   "execution_count": 4,
   "id": "5b4efa69",
   "metadata": {},
   "outputs": [],
   "source": [
    "teams = df['TEAM_NAME'].unique()"
   ]
  },
  {
   "cell_type": "code",
   "execution_count": 5,
   "id": "78a9998a",
   "metadata": {},
   "outputs": [],
   "source": [
    "for team in teams:\n",
    "    temp = df[df['TEAM_NAME'] == team]\n",
    "    for player_id in temp['PLAYER_ID'].unique():\n",
    "        url = 'https://ak-static.cms.nba.com/wp-content/uploads/headshots/nba/latest/260x190/'+str(player_id)+'.png'\n",
    "        img_data = requests.get(url).content\n",
    "        player_name = temp.loc[temp['PLAYER_ID'] == player_id, 'PLAYER_NAME'].iloc[0]\n",
    "        with open(team + ' - ' + str(player_name) + '.png', 'wb') as handler:\n",
    "            handler.write(img_data)"
   ]
  },
  {
   "cell_type": "code",
   "execution_count": null,
   "id": "a034a2bf",
   "metadata": {},
   "outputs": [],
   "source": []
  }
 ],
 "metadata": {
  "kernelspec": {
   "display_name": "Python 3",
   "language": "python",
   "name": "python3"
  },
  "language_info": {
   "codemirror_mode": {
    "name": "ipython",
    "version": 3
   },
   "file_extension": ".py",
   "mimetype": "text/x-python",
   "name": "python",
   "nbconvert_exporter": "python",
   "pygments_lexer": "ipython3",
   "version": "3.8.8"
  }
 },
 "nbformat": 4,
 "nbformat_minor": 5
}
